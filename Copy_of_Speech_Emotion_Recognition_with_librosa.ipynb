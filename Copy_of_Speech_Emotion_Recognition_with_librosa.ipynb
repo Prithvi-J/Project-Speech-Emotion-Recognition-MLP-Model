{
  "cells": [
    {
      "cell_type": "markdown",
      "metadata": {
        "id": "wd1zknE2IRew"
      },
      "source": [
        "\n",
        "[Dataset](https://drive.google.com/file/d/1wWsrN2Ep7x6lWqOXfr4rpKGYrJhWc8z7/view)"
      ]
    },
    {
      "cell_type": "markdown",
      "metadata": {
        "id": "NNqcEVziUkeF"
      },
      "source": [
        "# New Section"
      ]
    },
    {
      "cell_type": "code",
      "execution_count": null,
      "metadata": {
        "colab": {
          "base_uri": "https://localhost:8080/"
        },
        "id": "1RJ7UQBttEfp",
        "outputId": "f77a4f58-c703-44cf-ccad-c1e38fcd55f1"
      },
      "outputs": [
        {
          "output_type": "stream",
          "name": "stdout",
          "text": [
            "Mounted at /content/drive\n"
          ]
        }
      ],
      "source": [
        "from google.colab import drive\n",
        "drive.mount('/content/drive')"
      ]
    },
    {
      "cell_type": "code",
      "execution_count": null,
      "metadata": {
        "id": "4CKPHhxqoeid"
      },
      "outputs": [],
      "source": [
        "import os\n",
        "Root = \"/content/drive/MyDrive/speech-emotion-recognition-ravdess-data\"\n",
        "os.chdir(Root)"
      ]
    },
    {
      "cell_type": "code",
      "execution_count": null,
      "metadata": {
        "id": "CHlkrPZPpXlI",
        "colab": {
          "base_uri": "https://localhost:8080/"
        },
        "outputId": "7dadb820-ead1-43e2-baaa-20cbf7852822"
      },
      "outputs": [
        {
          "output_type": "stream",
          "name": "stdout",
          "text": [
            "\u001b[0m\u001b[01;34mActor_01\u001b[0m/  \u001b[01;34mActor_06\u001b[0m/  \u001b[01;34mActor_11\u001b[0m/  \u001b[01;34mActor_16\u001b[0m/  \u001b[01;34mActor_21\u001b[0m/\n",
            "\u001b[01;34mActor_02\u001b[0m/  \u001b[01;34mActor_07\u001b[0m/  \u001b[01;34mActor_12\u001b[0m/  \u001b[01;34mActor_17\u001b[0m/  \u001b[01;34mActor_22\u001b[0m/\n",
            "\u001b[01;34mActor_03\u001b[0m/  \u001b[01;34mActor_08\u001b[0m/  \u001b[01;34mActor_13\u001b[0m/  \u001b[01;34mActor_18\u001b[0m/  \u001b[01;34mActor_23\u001b[0m/\n",
            "\u001b[01;34mActor_04\u001b[0m/  \u001b[01;34mActor_09\u001b[0m/  \u001b[01;34mActor_14\u001b[0m/  \u001b[01;34mActor_19\u001b[0m/  \u001b[01;34mActor_24\u001b[0m/\n",
            "\u001b[01;34mActor_05\u001b[0m/  \u001b[01;34mActor_10\u001b[0m/  \u001b[01;34mActor_15\u001b[0m/  \u001b[01;34mActor_20\u001b[0m/  modelForPrediction1.sav\n"
          ]
        }
      ],
      "source": [
        "ls"
      ]
    },
    {
      "cell_type": "code",
      "execution_count": null,
      "metadata": {
        "id": "_IehQoF0pZxl"
      },
      "outputs": [],
      "source": [
        "import librosa\n",
        "import soundfile\n",
        "import os, glob, pickle\n",
        "import numpy as np\n",
        "from sklearn.model_selection import train_test_split\n",
        "from sklearn.neural_network import MLPClassifier\n",
        "from sklearn.metrics import accuracy_score"
      ]
    },
    {
      "cell_type": "code",
      "execution_count": null,
      "metadata": {
        "id": "cOrKu9Cnphen"
      },
      "outputs": [],
      "source": [
        "#Extract features (mfcc, chroma, mel) from a sound file\n",
        "def extract_feature(file_name, mfcc, chroma, mel):\n",
        "    with soundfile.SoundFile(file_name) as sound_file:\n",
        "        X = sound_file.read(dtype=\"float32\")\n",
        "        sample_rate=sound_file.samplerate\n",
        "        if chroma:\n",
        "            stft=np.abs(librosa.stft(X))\n",
        "        result=np.array([])\n",
        "        if mfcc:\n",
        "            mfccs=np.mean(librosa.feature.mfcc(y=X, sr=sample_rate, n_mfcc=40).T, axis=0)\n",
        "            result=np.hstack((result, mfccs))\n",
        "        if chroma:\n",
        "            chroma=np.mean(librosa.feature.chroma_stft(S=stft, sr=sample_rate).T,axis=0)\n",
        "            result=np.hstack((result, chroma))\n",
        "        if mel:\n",
        "            mel=np.mean(librosa.feature.melspectrogram(X, sr=sample_rate).T,axis=0)\n",
        "            result=np.hstack((result, mel))\n",
        "    return result"
      ]
    },
    {
      "cell_type": "code",
      "execution_count": null,
      "metadata": {
        "id": "ljV0QLcXpmRP"
      },
      "outputs": [],
      "source": [
        "# Emotions in the RAVDESS dataset\n",
        "emotions={\n",
        "  '01':'neutral',\n",
        "  '02':'calm',\n",
        "  '03':'happy',\n",
        "  '04':'sad',\n",
        "  '05':'angry',\n",
        "  '06':'fearful',\n",
        "  '07':'disgust',\n",
        "  '08':'surprised'\n",
        "}\n",
        "\n",
        "#Emotions to observe\n",
        "observed_emotions=['calm', 'happy', 'fearful', 'disgust']"
      ]
    },
    {
      "cell_type": "code",
      "execution_count": null,
      "metadata": {
        "id": "O46uIg3kpzrG"
      },
      "outputs": [],
      "source": [
        "#Load the data and extract features for each sound file\n",
        "def load_data(test_size=0.2):\n",
        "    x,y=[],[]\n",
        "    for file in glob.glob(\"/content/drive/MyDrive/speech-emotion-recognition-ravdess-data/Actor_*/*.wav\"):\n",
        "        file_name=os.path.basename(file)\n",
        "        emotion=emotions[file_name.split(\"-\")[2]]\n",
        "        if emotion not in observed_emotions:\n",
        "            continue\n",
        "        feature=extract_feature(file, mfcc=True, chroma=True, mel=True)\n",
        "        x.append(feature)\n",
        "        y.append(emotion)\n",
        "    return train_test_split(np.array(x), y, test_size=test_size, random_state=9)"
      ]
    },
    {
      "cell_type": "code",
      "execution_count": null,
      "metadata": {
        "id": "gE_MSQYDqPqg"
      },
      "outputs": [],
      "source": [
        "#Split the dataset\n",
        "x_train,x_test,y_train,y_test=load_data(test_size=0.25)"
      ]
    },
    {
      "cell_type": "code",
      "execution_count": null,
      "metadata": {
        "colab": {
          "base_uri": "https://localhost:8080/"
        },
        "id": "Fo872mW8urUM",
        "outputId": "8834e3f4-d64c-4d8c-8a5b-104482ee0b87"
      },
      "outputs": [
        {
          "output_type": "execute_result",
          "data": {
            "text/plain": [
              "array([[-4.09896820e+02,  1.51403370e+01, -2.24304562e+01, ...,\n",
              "         4.35975147e-03,  1.97707559e-03,  1.23020017e-03],\n",
              "       [-7.16214111e+02,  3.91477280e+01, -3.95843005e+00, ...,\n",
              "         3.84286723e-05,  2.59832232e-05,  3.60392332e-05],\n",
              "       [-6.87601501e+02,  3.93286972e+01, -4.07874537e+00, ...,\n",
              "         2.73509031e-05,  1.62149136e-05,  9.44456588e-06],\n",
              "       ...,\n",
              "       [-5.60119873e+02,  3.76125031e+01, -8.76632881e+00, ...,\n",
              "         2.18110785e-04,  1.51651751e-04,  5.76054408e-05],\n",
              "       [-5.88531982e+02,  6.03003578e+01,  1.75049515e+01, ...,\n",
              "         1.34000598e-04,  6.59308062e-05,  1.95767807e-05],\n",
              "       [-6.55006836e+02,  2.95730686e+01, -5.46247542e-01, ...,\n",
              "         1.98667931e-05,  2.57811589e-05,  1.41365526e-05]])"
            ]
          },
          "metadata": {},
          "execution_count": 9
        }
      ],
      "source": [
        "x_train"
      ]
    },
    {
      "cell_type": "code",
      "execution_count": null,
      "metadata": {
        "colab": {
          "base_uri": "https://localhost:8080/"
        },
        "id": "cNIOCRQ6qWOq",
        "outputId": "46797f68-8977-4afa-bfb6-52f51def2ae1"
      },
      "outputs": [
        {
          "output_type": "stream",
          "name": "stdout",
          "text": [
            "(576, 192)\n"
          ]
        }
      ],
      "source": [
        "#Get the shape of the training and testing datasets\n",
        "print((x_train.shape[0], x_test.shape[0]))"
      ]
    },
    {
      "cell_type": "code",
      "execution_count": null,
      "metadata": {
        "colab": {
          "base_uri": "https://localhost:8080/"
        },
        "id": "XqoLMHgsqcP8",
        "outputId": "895a3934-12e9-4672-e5ac-e64d4396e3f4"
      },
      "outputs": [
        {
          "output_type": "stream",
          "name": "stdout",
          "text": [
            "Features extracted: 180\n"
          ]
        }
      ],
      "source": [
        "#Get the number of features extracted\n",
        "print(f'Features extracted: {x_train.shape[1]}')"
      ]
    },
    {
      "cell_type": "code",
      "execution_count": null,
      "metadata": {
        "id": "bQsjvZiwqcTN"
      },
      "outputs": [],
      "source": [
        "#Initialize the Multi Layer Perceptron Classifier\n",
        "model=MLPClassifier(alpha=0.01, batch_size=256, epsilon=1e-08, hidden_layer_sizes=(300,), learning_rate='adaptive', max_iter=500)"
      ]
    },
    {
      "cell_type": "code",
      "execution_count": null,
      "metadata": {
        "colab": {
          "base_uri": "https://localhost:8080/"
        },
        "id": "tmZiXDHPqcV5",
        "outputId": "d42deb65-b684-4d8c-ec64-e37e03a74c45"
      },
      "outputs": [
        {
          "output_type": "execute_result",
          "data": {
            "text/plain": [
              "MLPClassifier(alpha=0.01, batch_size=256, hidden_layer_sizes=(300,),\n",
              "              learning_rate='adaptive', max_iter=500)"
            ]
          },
          "metadata": {},
          "execution_count": 13
        }
      ],
      "source": [
        "#Train the model\n",
        "model.fit(x_train,y_train)"
      ]
    },
    {
      "cell_type": "code",
      "execution_count": null,
      "metadata": {
        "id": "lumz8vRQqcYs"
      },
      "outputs": [],
      "source": [
        "#Predict for the test set\n",
        "y_pred=model.predict(x_test)"
      ]
    },
    {
      "cell_type": "code",
      "execution_count": null,
      "metadata": {
        "colab": {
          "base_uri": "https://localhost:8080/"
        },
        "id": "m604kmiFtxLP",
        "outputId": "56a43edc-1ef8-453e-e727-856017bdb0d2"
      },
      "outputs": [
        {
          "output_type": "execute_result",
          "data": {
            "text/plain": [
              "array(['happy', 'happy', 'calm', 'calm', 'disgust', 'calm', 'calm',\n",
              "       'happy', 'happy', 'happy', 'calm', 'happy', 'calm', 'calm',\n",
              "       'disgust', 'fearful', 'calm', 'calm', 'calm', 'calm', 'happy',\n",
              "       'calm', 'fearful', 'fearful', 'happy', 'happy', 'disgust',\n",
              "       'fearful', 'calm', 'happy', 'calm', 'fearful', 'happy', 'happy',\n",
              "       'fearful', 'calm', 'fearful', 'fearful', 'happy', 'calm', 'happy',\n",
              "       'happy', 'happy', 'calm', 'happy', 'calm', 'happy', 'calm',\n",
              "       'happy', 'calm', 'calm', 'fearful', 'happy', 'fearful', 'calm',\n",
              "       'fearful', 'fearful', 'happy', 'fearful', 'calm', 'calm', 'happy',\n",
              "       'happy', 'calm', 'fearful', 'happy', 'calm', 'disgust', 'disgust',\n",
              "       'calm', 'fearful', 'fearful', 'disgust', 'disgust', 'happy',\n",
              "       'happy', 'calm', 'calm', 'calm', 'calm', 'disgust', 'calm', 'calm',\n",
              "       'calm', 'fearful', 'fearful', 'happy', 'happy', 'disgust',\n",
              "       'fearful', 'fearful', 'happy', 'calm', 'fearful', 'calm',\n",
              "       'fearful', 'calm', 'calm', 'calm', 'disgust', 'disgust', 'disgust',\n",
              "       'calm', 'happy', 'disgust', 'happy', 'calm', 'happy', 'calm',\n",
              "       'disgust', 'calm', 'calm', 'calm', 'happy', 'happy', 'happy',\n",
              "       'calm', 'calm', 'happy', 'calm', 'calm', 'fearful', 'calm',\n",
              "       'disgust', 'fearful', 'calm', 'fearful', 'calm', 'calm', 'calm',\n",
              "       'disgust', 'calm', 'disgust', 'disgust', 'disgust', 'happy',\n",
              "       'fearful', 'fearful', 'disgust', 'calm', 'calm', 'happy', 'happy',\n",
              "       'fearful', 'fearful', 'calm', 'fearful', 'fearful', 'calm',\n",
              "       'happy', 'calm', 'calm', 'happy', 'calm', 'fearful', 'calm',\n",
              "       'calm', 'fearful', 'happy', 'calm', 'fearful', 'calm', 'calm',\n",
              "       'calm', 'fearful', 'happy', 'happy', 'disgust', 'fearful', 'calm',\n",
              "       'fearful', 'calm', 'fearful', 'calm', 'calm', 'fearful', 'calm',\n",
              "       'fearful', 'calm', 'happy', 'calm', 'calm', 'happy', 'happy',\n",
              "       'calm', 'calm', 'fearful', 'calm', 'calm', 'happy', 'disgust',\n",
              "       'happy'], dtype='<U7')"
            ]
          },
          "metadata": {},
          "execution_count": 15
        }
      ],
      "source": [
        "y_pred"
      ]
    },
    {
      "cell_type": "code",
      "execution_count": null,
      "metadata": {
        "colab": {
          "base_uri": "https://localhost:8080/"
        },
        "id": "IrCVcauwqkFs",
        "outputId": "f060dbbb-4cac-45c9-cf49-896f625e58df"
      },
      "outputs": [
        {
          "output_type": "stream",
          "name": "stdout",
          "text": [
            "Accuracy: 67.71%\n"
          ]
        }
      ],
      "source": [
        "#Calculate the accuracy of our model\n",
        "accuracy=accuracy_score(y_true=y_test, y_pred=y_pred)\n",
        "\n",
        "#Print the accuracy\n",
        "print(\"Accuracy: {:.2f}%\".format(accuracy*100))"
      ]
    },
    {
      "cell_type": "code",
      "execution_count": null,
      "metadata": {
        "id": "vJ8_B3O0qkJG"
      },
      "outputs": [],
      "source": [
        "from sklearn.metrics import accuracy_score, f1_score"
      ]
    },
    {
      "cell_type": "code",
      "execution_count": null,
      "metadata": {
        "colab": {
          "base_uri": "https://localhost:8080/"
        },
        "id": "_Ry4if_sqkLr",
        "outputId": "298f7619-0509-406e-85de-511591bd359a"
      },
      "outputs": [
        {
          "output_type": "execute_result",
          "data": {
            "text/plain": [
              "array([0.8057554 , 0.46753247, 0.63888889, 0.6875    ])"
            ]
          },
          "metadata": {},
          "execution_count": 18
        }
      ],
      "source": [
        "f1_score(y_test, y_pred,average=None)"
      ]
    },
    {
      "cell_type": "code",
      "execution_count": null,
      "metadata": {
        "colab": {
          "base_uri": "https://localhost:8080/",
          "height": 676
        },
        "id": "0Rt9YfZkCO5A",
        "outputId": "55d9d564-5a0d-4b49-95ad-847afd791497"
      },
      "outputs": [
        {
          "output_type": "execute_result",
          "data": {
            "text/plain": [
              "     Actual Predicted\n",
              "0     happy     happy\n",
              "1     happy     happy\n",
              "2      calm      calm\n",
              "3      calm      calm\n",
              "4   fearful   disgust\n",
              "5      calm      calm\n",
              "6      calm      calm\n",
              "7     happy     happy\n",
              "8   disgust     happy\n",
              "9     happy     happy\n",
              "10     calm      calm\n",
              "11  disgust     happy\n",
              "12     calm      calm\n",
              "13     calm      calm\n",
              "14  disgust   disgust\n",
              "15  fearful   fearful\n",
              "16     calm      calm\n",
              "17     calm      calm\n",
              "18  fearful      calm\n",
              "19  disgust      calm"
            ],
            "text/html": [
              "\n",
              "  <div id=\"df-27dd4aa1-f0b3-47bc-8506-f3e80d28a42a\">\n",
              "    <div class=\"colab-df-container\">\n",
              "      <div>\n",
              "<style scoped>\n",
              "    .dataframe tbody tr th:only-of-type {\n",
              "        vertical-align: middle;\n",
              "    }\n",
              "\n",
              "    .dataframe tbody tr th {\n",
              "        vertical-align: top;\n",
              "    }\n",
              "\n",
              "    .dataframe thead th {\n",
              "        text-align: right;\n",
              "    }\n",
              "</style>\n",
              "<table border=\"1\" class=\"dataframe\">\n",
              "  <thead>\n",
              "    <tr style=\"text-align: right;\">\n",
              "      <th></th>\n",
              "      <th>Actual</th>\n",
              "      <th>Predicted</th>\n",
              "    </tr>\n",
              "  </thead>\n",
              "  <tbody>\n",
              "    <tr>\n",
              "      <th>0</th>\n",
              "      <td>happy</td>\n",
              "      <td>happy</td>\n",
              "    </tr>\n",
              "    <tr>\n",
              "      <th>1</th>\n",
              "      <td>happy</td>\n",
              "      <td>happy</td>\n",
              "    </tr>\n",
              "    <tr>\n",
              "      <th>2</th>\n",
              "      <td>calm</td>\n",
              "      <td>calm</td>\n",
              "    </tr>\n",
              "    <tr>\n",
              "      <th>3</th>\n",
              "      <td>calm</td>\n",
              "      <td>calm</td>\n",
              "    </tr>\n",
              "    <tr>\n",
              "      <th>4</th>\n",
              "      <td>fearful</td>\n",
              "      <td>disgust</td>\n",
              "    </tr>\n",
              "    <tr>\n",
              "      <th>5</th>\n",
              "      <td>calm</td>\n",
              "      <td>calm</td>\n",
              "    </tr>\n",
              "    <tr>\n",
              "      <th>6</th>\n",
              "      <td>calm</td>\n",
              "      <td>calm</td>\n",
              "    </tr>\n",
              "    <tr>\n",
              "      <th>7</th>\n",
              "      <td>happy</td>\n",
              "      <td>happy</td>\n",
              "    </tr>\n",
              "    <tr>\n",
              "      <th>8</th>\n",
              "      <td>disgust</td>\n",
              "      <td>happy</td>\n",
              "    </tr>\n",
              "    <tr>\n",
              "      <th>9</th>\n",
              "      <td>happy</td>\n",
              "      <td>happy</td>\n",
              "    </tr>\n",
              "    <tr>\n",
              "      <th>10</th>\n",
              "      <td>calm</td>\n",
              "      <td>calm</td>\n",
              "    </tr>\n",
              "    <tr>\n",
              "      <th>11</th>\n",
              "      <td>disgust</td>\n",
              "      <td>happy</td>\n",
              "    </tr>\n",
              "    <tr>\n",
              "      <th>12</th>\n",
              "      <td>calm</td>\n",
              "      <td>calm</td>\n",
              "    </tr>\n",
              "    <tr>\n",
              "      <th>13</th>\n",
              "      <td>calm</td>\n",
              "      <td>calm</td>\n",
              "    </tr>\n",
              "    <tr>\n",
              "      <th>14</th>\n",
              "      <td>disgust</td>\n",
              "      <td>disgust</td>\n",
              "    </tr>\n",
              "    <tr>\n",
              "      <th>15</th>\n",
              "      <td>fearful</td>\n",
              "      <td>fearful</td>\n",
              "    </tr>\n",
              "    <tr>\n",
              "      <th>16</th>\n",
              "      <td>calm</td>\n",
              "      <td>calm</td>\n",
              "    </tr>\n",
              "    <tr>\n",
              "      <th>17</th>\n",
              "      <td>calm</td>\n",
              "      <td>calm</td>\n",
              "    </tr>\n",
              "    <tr>\n",
              "      <th>18</th>\n",
              "      <td>fearful</td>\n",
              "      <td>calm</td>\n",
              "    </tr>\n",
              "    <tr>\n",
              "      <th>19</th>\n",
              "      <td>disgust</td>\n",
              "      <td>calm</td>\n",
              "    </tr>\n",
              "  </tbody>\n",
              "</table>\n",
              "</div>\n",
              "      <button class=\"colab-df-convert\" onclick=\"convertToInteractive('df-27dd4aa1-f0b3-47bc-8506-f3e80d28a42a')\"\n",
              "              title=\"Convert this dataframe to an interactive table.\"\n",
              "              style=\"display:none;\">\n",
              "        \n",
              "  <svg xmlns=\"http://www.w3.org/2000/svg\" height=\"24px\"viewBox=\"0 0 24 24\"\n",
              "       width=\"24px\">\n",
              "    <path d=\"M0 0h24v24H0V0z\" fill=\"none\"/>\n",
              "    <path d=\"M18.56 5.44l.94 2.06.94-2.06 2.06-.94-2.06-.94-.94-2.06-.94 2.06-2.06.94zm-11 1L8.5 8.5l.94-2.06 2.06-.94-2.06-.94L8.5 2.5l-.94 2.06-2.06.94zm10 10l.94 2.06.94-2.06 2.06-.94-2.06-.94-.94-2.06-.94 2.06-2.06.94z\"/><path d=\"M17.41 7.96l-1.37-1.37c-.4-.4-.92-.59-1.43-.59-.52 0-1.04.2-1.43.59L10.3 9.45l-7.72 7.72c-.78.78-.78 2.05 0 2.83L4 21.41c.39.39.9.59 1.41.59.51 0 1.02-.2 1.41-.59l7.78-7.78 2.81-2.81c.8-.78.8-2.07 0-2.86zM5.41 20L4 18.59l7.72-7.72 1.47 1.35L5.41 20z\"/>\n",
              "  </svg>\n",
              "      </button>\n",
              "      \n",
              "  <style>\n",
              "    .colab-df-container {\n",
              "      display:flex;\n",
              "      flex-wrap:wrap;\n",
              "      gap: 12px;\n",
              "    }\n",
              "\n",
              "    .colab-df-convert {\n",
              "      background-color: #E8F0FE;\n",
              "      border: none;\n",
              "      border-radius: 50%;\n",
              "      cursor: pointer;\n",
              "      display: none;\n",
              "      fill: #1967D2;\n",
              "      height: 32px;\n",
              "      padding: 0 0 0 0;\n",
              "      width: 32px;\n",
              "    }\n",
              "\n",
              "    .colab-df-convert:hover {\n",
              "      background-color: #E2EBFA;\n",
              "      box-shadow: 0px 1px 2px rgba(60, 64, 67, 0.3), 0px 1px 3px 1px rgba(60, 64, 67, 0.15);\n",
              "      fill: #174EA6;\n",
              "    }\n",
              "\n",
              "    [theme=dark] .colab-df-convert {\n",
              "      background-color: #3B4455;\n",
              "      fill: #D2E3FC;\n",
              "    }\n",
              "\n",
              "    [theme=dark] .colab-df-convert:hover {\n",
              "      background-color: #434B5C;\n",
              "      box-shadow: 0px 1px 3px 1px rgba(0, 0, 0, 0.15);\n",
              "      filter: drop-shadow(0px 1px 2px rgba(0, 0, 0, 0.3));\n",
              "      fill: #FFFFFF;\n",
              "    }\n",
              "  </style>\n",
              "\n",
              "      <script>\n",
              "        const buttonEl =\n",
              "          document.querySelector('#df-27dd4aa1-f0b3-47bc-8506-f3e80d28a42a button.colab-df-convert');\n",
              "        buttonEl.style.display =\n",
              "          google.colab.kernel.accessAllowed ? 'block' : 'none';\n",
              "\n",
              "        async function convertToInteractive(key) {\n",
              "          const element = document.querySelector('#df-27dd4aa1-f0b3-47bc-8506-f3e80d28a42a');\n",
              "          const dataTable =\n",
              "            await google.colab.kernel.invokeFunction('convertToInteractive',\n",
              "                                                     [key], {});\n",
              "          if (!dataTable) return;\n",
              "\n",
              "          const docLinkHtml = 'Like what you see? Visit the ' +\n",
              "            '<a target=\"_blank\" href=https://colab.research.google.com/notebooks/data_table.ipynb>data table notebook</a>'\n",
              "            + ' to learn more about interactive tables.';\n",
              "          element.innerHTML = '';\n",
              "          dataTable['output_type'] = 'display_data';\n",
              "          await google.colab.output.renderOutput(dataTable, element);\n",
              "          const docLink = document.createElement('div');\n",
              "          docLink.innerHTML = docLinkHtml;\n",
              "          element.appendChild(docLink);\n",
              "        }\n",
              "      </script>\n",
              "    </div>\n",
              "  </div>\n",
              "  "
            ]
          },
          "metadata": {},
          "execution_count": 19
        }
      ],
      "source": [
        "import pandas as pd\n",
        "df=pd.DataFrame({'Actual': y_test, 'Predicted':y_pred})\n",
        "df.head(20)"
      ]
    },
    {
      "cell_type": "code",
      "execution_count": null,
      "metadata": {
        "id": "eYPWbWLBqkN7"
      },
      "outputs": [],
      "source": [
        "import pickle\n",
        "# Writing different model files to file\n",
        "with open( 'modelForPrediction1.sav', 'wb') as f:\n",
        "    pickle.dump(model,f)"
      ]
    },
    {
      "cell_type": "code",
      "execution_count": null,
      "metadata": {
        "colab": {
          "base_uri": "https://localhost:8080/"
        },
        "id": "dw0IfunzvqtV",
        "outputId": "9696f3d2-c42f-4ffb-fd80-eca0b4144e33"
      },
      "outputs": [
        {
          "output_type": "execute_result",
          "data": {
            "text/plain": [
              "array(['calm'], dtype='<U7')"
            ]
          },
          "metadata": {},
          "execution_count": 21
        }
      ],
      "source": [
        "filename = 'modelForPrediction1.sav'\n",
        "loaded_model = pickle.load(open(filename, 'rb')) # loading the model file from the storage\n",
        "\n",
        "feature=extract_feature(\"/content/drive/MyDrive/speech-emotion-recognition-ravdess-data/Actor_01/03-01-04-02-01-01-01.wav\", mfcc=True, chroma=True, mel=True)\n",
        "\n",
        "feature=feature.reshape(1,-1)\n",
        "\n",
        "prediction=loaded_model.predict(feature)\n",
        "prediction"
      ]
    },
    {
      "cell_type": "code",
      "execution_count": null,
      "metadata": {
        "colab": {
          "base_uri": "https://localhost:8080/"
        },
        "id": "grRD5MrTxOaL",
        "outputId": "e7d3fa0e-a146-4cf4-b906-7d67e7383b88"
      },
      "outputs": [
        {
          "output_type": "execute_result",
          "data": {
            "text/plain": [
              "array([[-6.62522827e+02,  5.73402939e+01,  4.32973623e-01,\n",
              "         2.00030117e+01, -2.07569167e-01, -4.27961230e-01,\n",
              "        -6.63846588e+00, -1.11645699e+01, -4.32162189e+00,\n",
              "        -1.56606269e+00, -3.81368446e+00,  3.35571408e-01,\n",
              "        -6.98173809e+00,  1.60643399e+00, -3.09381437e+00,\n",
              "        -4.52872086e+00, -3.60219216e+00, -2.88114697e-01,\n",
              "        -4.93534613e+00, -1.53959382e+00, -2.68463826e+00,\n",
              "        -5.73684072e+00, -8.06470215e-01, -2.98968887e+00,\n",
              "        -1.57019103e+00, -2.88928330e-01, -1.47611296e+00,\n",
              "        -1.73522747e+00, -2.35914016e+00, -2.41390085e+00,\n",
              "        -3.17594552e+00, -3.44330978e+00, -1.64540672e+00,\n",
              "        -2.54550982e+00, -3.32737970e+00, -3.15788412e+00,\n",
              "        -4.27377415e+00, -1.49568295e+00, -2.88858271e+00,\n",
              "        -2.01887202e+00,  6.93266869e-01,  6.52378678e-01,\n",
              "         6.13452792e-01,  6.30414903e-01,  6.69092953e-01,\n",
              "         6.70851529e-01,  6.70543134e-01,  7.10303068e-01,\n",
              "         7.13138282e-01,  7.42537498e-01,  7.79047966e-01,\n",
              "         7.43727505e-01,  6.45690743e-05,  2.62570447e-05,\n",
              "         9.25041459e-05,  7.40616024e-03,  5.77376485e-02,\n",
              "         5.20022176e-02,  3.26159829e-03,  9.60288802e-04,\n",
              "         1.48356212e-02,  4.38522473e-02,  9.90164503e-02,\n",
              "         7.26947039e-02,  3.09848483e-03,  7.53495283e-03,\n",
              "         1.68679450e-02,  1.36032607e-02,  6.00312911e-02,\n",
              "         3.94354574e-02,  1.54011752e-02,  2.30348483e-02,\n",
              "         3.54577005e-02,  4.58169095e-02,  2.12305244e-02,\n",
              "         1.01640429e-02,  4.04513022e-03,  5.25050471e-03,\n",
              "         1.01900380e-02,  1.56573039e-02,  5.63157490e-03,\n",
              "         1.12989161e-03,  7.77113775e-04,  1.10107171e-03,\n",
              "         1.19306543e-03,  8.00587761e-04,  3.31191259e-04,\n",
              "         1.11548674e-04,  1.90895706e-04,  4.49079031e-04,\n",
              "         5.71608485e-04,  3.20132502e-04,  3.59494064e-04,\n",
              "         4.30243352e-04,  5.90165262e-04,  7.70108833e-04,\n",
              "         8.65952170e-04,  2.50260986e-04,  3.77975171e-04,\n",
              "         1.25934184e-03,  1.72229169e-03,  8.99859297e-04,\n",
              "         2.97019462e-04,  5.97687147e-04,  9.74261609e-04,\n",
              "         1.04544940e-03,  1.82689633e-03,  9.53335781e-04,\n",
              "         5.03995980e-04,  9.09477589e-04,  1.49057771e-03,\n",
              "         7.83570402e-04,  4.29676293e-04,  9.39609075e-04,\n",
              "         6.16367965e-04,  2.32233753e-04,  1.58189723e-04,\n",
              "         4.33850684e-04,  5.38733788e-04,  1.88846709e-04,\n",
              "         1.77060094e-04,  2.68768636e-04,  1.07242471e-04,\n",
              "         1.29846710e-04,  2.19719455e-04,  8.39070126e-05,\n",
              "         1.43211393e-04,  1.89637285e-04,  3.47879541e-04,\n",
              "         3.38312326e-04,  1.87579149e-04,  7.20241747e-04,\n",
              "         3.02799599e-04,  1.57026647e-04,  9.51035181e-05,\n",
              "         6.23275337e-05,  5.90187592e-05,  2.94368347e-05,\n",
              "         2.84594826e-05,  3.77688339e-05,  4.11211477e-05,\n",
              "         9.68181193e-05,  1.34619957e-04,  2.03931690e-04,\n",
              "         2.46074720e-04,  3.29091185e-04,  3.76226613e-04,\n",
              "         2.99378706e-04,  1.69607796e-04,  4.94225314e-05,\n",
              "         3.29894428e-05,  2.56993080e-05,  2.71024019e-05,\n",
              "         3.47048590e-05,  7.92054780e-05,  1.11506495e-04,\n",
              "         8.37352563e-05,  1.52958892e-04,  2.37184286e-04,\n",
              "         3.01941909e-04,  2.62453919e-04,  1.44557998e-04,\n",
              "         1.08162312e-04,  1.40703632e-04,  1.07066197e-04,\n",
              "         1.11737696e-04,  1.68513128e-04,  8.45848117e-05,\n",
              "         7.16109353e-05,  8.82649183e-05,  5.78647705e-05,\n",
              "         4.07790867e-05,  2.62798239e-05,  1.52834164e-05,\n",
              "         9.66390780e-06,  7.33113711e-06,  8.40213943e-06,\n",
              "         6.90901288e-06,  9.54690677e-06,  5.69926578e-06]])"
            ]
          },
          "metadata": {},
          "execution_count": 22
        }
      ],
      "source": [
        "feature"
      ]
    },
    {
      "cell_type": "code",
      "execution_count": null,
      "metadata": {
        "id": "2b_mwxpsyugl"
      },
      "outputs": [],
      "source": []
    }
  ],
  "metadata": {
    "colab": {
      "provenance": []
    },
    "kernelspec": {
      "display_name": "Python 3",
      "name": "python3"
    },
    "language_info": {
      "name": "python"
    }
  },
  "nbformat": 4,
  "nbformat_minor": 0
}